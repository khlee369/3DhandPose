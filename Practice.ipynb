{
 "cells": [
  {
   "cell_type": "code",
   "execution_count": null,
   "metadata": {},
   "outputs": [],
   "source": [
    "import tensorflow as tf"
   ]
  },
  {
   "cell_type": "code",
   "execution_count": null,
   "metadata": {},
   "outputs": [],
   "source": [
    "tf.stack([image,image])"
   ]
  },
  {
   "cell_type": "code",
   "execution_count": null,
   "metadata": {},
   "outputs": [],
   "source": [
    "out = sess.run(tf.image.resize_images(tf.stack([image,image]), [640, 640]))\n",
    "plt.imshow(out[0].astype(int))\n",
    "plt.show()"
   ]
  },
  {
   "cell_type": "code",
   "execution_count": null,
   "metadata": {},
   "outputs": [],
   "source": [
    "sess=tf.Session()"
   ]
  },
  {
   "cell_type": "code",
   "execution_count": null,
   "metadata": {
    "scrolled": true
   },
   "outputs": [],
   "source": [
    "plt.imshow(sess.run(tf.random_crop(image, [256,256, 3])))\n",
    "plt.show()"
   ]
  },
  {
   "cell_type": "code",
   "execution_count": null,
   "metadata": {},
   "outputs": [],
   "source": [
    "plt.imshow(image)\n",
    "plt.show()"
   ]
  },
  {
   "cell_type": "code",
   "execution_count": null,
   "metadata": {},
   "outputs": [],
   "source": []
  },
  {
   "cell_type": "code",
   "execution_count": null,
   "metadata": {},
   "outputs": [],
   "source": []
  },
  {
   "cell_type": "code",
   "execution_count": null,
   "metadata": {},
   "outputs": [],
   "source": []
  },
  {
   "cell_type": "code",
   "execution_count": null,
   "metadata": {},
   "outputs": [],
   "source": []
  },
  {
   "cell_type": "code",
   "execution_count": null,
   "metadata": {},
   "outputs": [],
   "source": [
    "tf.nn.conv2d(x, weight, strides=[1,1,1,1], padding='SAME')"
   ]
  },
  {
   "cell_type": "code",
   "execution_count": null,
   "metadata": {},
   "outputs": [],
   "source": [
    "tf.nn.conv2d_transpose(x, weight, output_shape=(1, 56, 56, 1), strides=[1,2,2,1], padding='SAME')"
   ]
  },
  {
   "cell_type": "code",
   "execution_count": null,
   "metadata": {},
   "outputs": [],
   "source": [
    "tf.contrib.framework.assign_from_values?"
   ]
  },
  {
   "cell_type": "code",
   "execution_count": null,
   "metadata": {},
   "outputs": [],
   "source": [
    "x = tf.placeholder(tf.float32, [None, 28*28])"
   ]
  },
  {
   "cell_type": "code",
   "execution_count": null,
   "metadata": {},
   "outputs": [],
   "source": [
    "a = {\n",
    "    'a':1,\n",
    "    'b':2,\n",
    "    'c':3,\n",
    "}"
   ]
  },
  {
   "cell_type": "code",
   "execution_count": null,
   "metadata": {},
   "outputs": [],
   "source": [
    "name, val = zip(*a.items())"
   ]
  },
  {
   "cell_type": "code",
   "execution_count": null,
   "metadata": {},
   "outputs": [],
   "source": [
    "dict(zip(name,val))"
   ]
  },
  {
   "cell_type": "code",
   "execution_count": null,
   "metadata": {},
   "outputs": [],
   "source": [
    "print(name)\n",
    "print(val)"
   ]
  },
  {
   "cell_type": "code",
   "execution_count": null,
   "metadata": {},
   "outputs": [],
   "source": [
    "a.items()"
   ]
  },
  {
   "cell_type": "code",
   "execution_count": null,
   "metadata": {},
   "outputs": [],
   "source": [
    "list(zip(*a.items()))"
   ]
  },
  {
   "cell_type": "code",
   "execution_count": null,
   "metadata": {},
   "outputs": [],
   "source": [
    "list(zip(a.items()))"
   ]
  },
  {
   "cell_type": "code",
   "execution_count": null,
   "metadata": {},
   "outputs": [],
   "source": [
    "for n in zip(*a.items()):\n",
    "    print(n)\n",
    "    print('hi')"
   ]
  },
  {
   "cell_type": "code",
   "execution_count": null,
   "metadata": {},
   "outputs": [],
   "source": [
    "mask[:,:,0]"
   ]
  },
  {
   "cell_type": "code",
   "execution_count": null,
   "metadata": {},
   "outputs": [],
   "source": [
    "np.where(sess.run(tf.logical_not(mask[:,:,0])) == 1)"
   ]
  },
  {
   "cell_type": "code",
   "execution_count": null,
   "metadata": {},
   "outputs": [],
   "source": [
    "np.where(sess.run(tf.cast(tf.greater(mask[:,:,0], 1), tf.int32))==1)"
   ]
  },
  {
   "cell_type": "code",
   "execution_count": null,
   "metadata": {},
   "outputs": [],
   "source": [
    "np.where(sess.run(tf.greater(mask[:,:,0], 1))==1)"
   ]
  },
  {
   "cell_type": "code",
   "execution_count": null,
   "metadata": {},
   "outputs": [],
   "source": [
    "np.where(mask[:,:,0] == 0)"
   ]
  },
  {
   "cell_type": "markdown",
   "metadata": {},
   "source": [
    "# Let's see data"
   ]
  },
  {
   "cell_type": "code",
   "execution_count": 1,
   "metadata": {},
   "outputs": [],
   "source": [
    "import pickle\n",
    "import os\n",
    "import numpy as np\n",
    "import scipy.misc\n",
    "import cv2\n",
    "import matplotlib.pyplot as plt\n",
    "from mpl_toolkits.mplot3d import Axes3D"
   ]
  },
  {
   "cell_type": "code",
   "execution_count": 2,
   "metadata": {},
   "outputs": [],
   "source": [
    "set = 'evaluation'\n",
    "f1 = open('./RHD_published_v2/{}/anno_{}.pickle'.format(set,set), 'rb')\n",
    "anno_all = pickle.load(f1)\n",
    "f1.close()"
   ]
  },
  {
   "cell_type": "code",
   "execution_count": 3,
   "metadata": {},
   "outputs": [
    {
     "data": {
      "text/plain": [
       "2728"
      ]
     },
     "execution_count": 3,
     "metadata": {},
     "output_type": "execute_result"
    }
   ],
   "source": [
    "len(anno_all)"
   ]
  },
  {
   "cell_type": "code",
   "execution_count": 4,
   "metadata": {},
   "outputs": [],
   "source": [
    "path_to_db = './RHD_published_v2/'\n",
    "set = 'evaluation'"
   ]
  },
  {
   "cell_type": "code",
   "execution_count": null,
   "metadata": {},
   "outputs": [],
   "source": [
    "sample_id = 0\n",
    "\n",
    "image = cv2.imread(os.path.join(path_to_db, set , 'color', '%.5d.png' % sample_id))\n",
    "mask = cv2.imread(os.path.join(path_to_db, set , 'mask', '%.5d.png' % sample_id))\n",
    "depth = cv2.imread(os.path.join(path_to_db, set , 'depth', '%.5d.png' % sample_id))\n",
    "\n",
    "image = cv2.cvtColor(image, cv2.COLOR_BGR2RGB)\n",
    "mask = cv2.cvtColor(mask, cv2.COLOR_BGR2RGB)\n",
    "depth = cv2.cvtColor(depth, cv2.COLOR_BGR2RGB)"
   ]
  },
  {
   "cell_type": "code",
   "execution_count": null,
   "metadata": {},
   "outputs": [],
   "source": [
    "len(anno_all)"
   ]
  },
  {
   "cell_type": "code",
   "execution_count": null,
   "metadata": {
    "scrolled": true
   },
   "outputs": [],
   "source": [
    "depth"
   ]
  },
  {
   "cell_type": "code",
   "execution_count": null,
   "metadata": {},
   "outputs": [],
   "source": [
    "plt.imshow(mask*7)\n",
    "plt.show()"
   ]
  },
  {
   "cell_type": "code",
   "execution_count": null,
   "metadata": {},
   "outputs": [],
   "source": [
    "print(image.shape)\n",
    "print(mask.shape)\n",
    "print(depth.shape)"
   ]
  },
  {
   "cell_type": "code",
   "execution_count": null,
   "metadata": {
    "scrolled": true
   },
   "outputs": [],
   "source": [
    "plt.imshow(image)\n",
    "plt.show()\n",
    "plt.imshow(mask)\n",
    "plt.show()\n",
    "plt.imshow(depth)\n",
    "plt.show()"
   ]
  },
  {
   "cell_type": "code",
   "execution_count": null,
   "metadata": {
    "scrolled": true
   },
   "outputs": [],
   "source": [
    "plt.imshow(image)\n",
    "plt.show()\n",
    "plt.imshow(mask)\n",
    "plt.show()\n",
    "plt.imshow(depth)\n",
    "plt.show()"
   ]
  },
  {
   "cell_type": "code",
   "execution_count": null,
   "metadata": {},
   "outputs": [],
   "source": [
    "def depth_two_uint8_to_float(top_bits, bottom_bits):\n",
    "    \"\"\" Converts a RGB-coded depth into float valued depth. \"\"\"\n",
    "    depth_map = (top_bits * 2**8 + bottom_bits).astype('float32')\n",
    "    depth_map /= float(2**16 - 1)\n",
    "    depth_map *= 5.0\n",
    "    return depth_map"
   ]
  },
  {
   "cell_type": "code",
   "execution_count": null,
   "metadata": {},
   "outputs": [],
   "source": [
    "depth = depth_two_uint8_to_float(depth[:, :, 0], depth[:, :, 1])"
   ]
  },
  {
   "cell_type": "code",
   "execution_count": null,
   "metadata": {},
   "outputs": [],
   "source": [
    "depth"
   ]
  },
  {
   "cell_type": "code",
   "execution_count": null,
   "metadata": {},
   "outputs": [],
   "source": [
    "kp_coord_xyz"
   ]
  },
  {
   "cell_type": "code",
   "execution_count": null,
   "metadata": {},
   "outputs": [],
   "source": [
    "np.max(mask)"
   ]
  },
  {
   "cell_type": "code",
   "execution_count": null,
   "metadata": {},
   "outputs": [],
   "source": [
    "anno.keys()"
   ]
  },
  {
   "cell_type": "code",
   "execution_count": null,
   "metadata": {},
   "outputs": [],
   "source": [
    "anno = anno_all[sample_id]\n",
    "\n",
    "# get info from annotation dictionary\n",
    "kp_coord_uv = anno['uv_vis'][:, :2]  # u, v coordinates of 42 hand keypoints, pixel\n",
    "kp_visible = (anno['uv_vis'][:, 2] == 1)  # visibility of the keypoints, boolean\n",
    "kp_coord_xyz = anno['xyz']  # x, y, z coordinates of the keypoints, in meters\n",
    "camera_intrinsic_matrix = anno['K']  # matrix containing intrinsic parameters\n",
    "\n",
    "# Project world coordinates into the camera frame\n",
    "kp_coord_uv_proj = np.matmul(kp_coord_xyz, np.transpose(camera_intrinsic_matrix))\n",
    "kp_coord_uv_proj = kp_coord_uv_proj[:, :2] / kp_coord_uv_proj[:, 2:]"
   ]
  },
  {
   "cell_type": "code",
   "execution_count": null,
   "metadata": {},
   "outputs": [],
   "source": [
    "# Visualize data\n",
    "fig = plt.figure(1, figsize=(15,15))\n",
    "ax1 = fig.add_subplot('221')\n",
    "ax2 = fig.add_subplot('222')\n",
    "ax3 = fig.add_subplot('223')\n",
    "ax4 = fig.add_subplot('224', projection='3d')\n",
    "\n",
    "ax1.imshow(image)\n",
    "ax1.plot(kp_coord_uv[kp_visible, 0], kp_coord_uv[kp_visible, 1], 'ro')\n",
    "ax1.plot(kp_coord_uv_proj[kp_visible, 0], kp_coord_uv_proj[kp_visible, 1], 'gx')\n",
    "ax2.imshow(depth)\n",
    "ax3.imshow(mask)\n",
    "ax4.scatter(kp_coord_xyz[kp_visible, 0], kp_coord_xyz[kp_visible, 1], kp_coord_xyz[kp_visible, 2])\n",
    "# ax4.view_init(azim=-90.0, elev=-90.0)  # aligns the 3d coord with the camera view\n",
    "# plot_hand_3d(kp_coord_xyz, ax4, color_fixed=None, linewidth='1')\n",
    "# plot_hand(kp_coord_xyz, ax4, color_fixed=None, linewidth='1')\n",
    "ax4.set_xlabel('x')\n",
    "ax4.set_ylabel('y')\n",
    "ax4.set_zlabel('z')\n",
    "\n",
    "plt.show()\n"
   ]
  },
  {
   "cell_type": "code",
   "execution_count": null,
   "metadata": {},
   "outputs": [],
   "source": [
    "coord_hw = kp_coord_xyz\n",
    "fig = plt.figure(1, figsize=(10,10))\n",
    "ax1 = fig.add_subplot(221)\n",
    "ax2 = fig.add_subplot(222)\n",
    "ax3 = fig.add_subplot(223)\n",
    "ax4 = fig.add_subplot(224, projection='3d')\n",
    "ax1.imshow(image)\n",
    "plot_hand(coord_hw, ax1)\n",
    "ax2.imshow(image_crop_v)\n",
    "plot_hand(coord_hw_crop, ax2)\n",
    "ax3.imshow(np.argmax(hand_scoremap_v, 2))\n",
    "plot_hand_3d(keypoint_coord3d_v, ax4)\n",
    "ax4.view_init(azim=-90.0, elev=-90.0)  # aligns the 3d coord with the camera view\n",
    "ax4.set_xlim([-3, 3])\n",
    "ax4.set_ylim([-3, 1])\n",
    "ax4.set_zlim([-3, 3])\n",
    "plt.show()"
   ]
  },
  {
   "cell_type": "code",
   "execution_count": null,
   "metadata": {},
   "outputs": [],
   "source": [
    "def plot_hand(coords_hw, axis, color_fixed=None, linewidth='1'):\n",
    "    \"\"\" Plots a hand stick figure into a matplotlib figure. \"\"\"\n",
    "    colors = np.array([[0., 0., 0.5],\n",
    "                       [0., 0., 0.73172906],\n",
    "                       [0., 0., 0.96345811],\n",
    "                       [0., 0.12745098, 1.],\n",
    "                       [0., 0.33137255, 1.],\n",
    "                       [0., 0.55098039, 1.],\n",
    "                       [0., 0.75490196, 1.],\n",
    "                       [0.06008855, 0.9745098, 0.90765338],\n",
    "                       [0.22454143, 1., 0.74320051],\n",
    "                       [0.40164453, 1., 0.56609741],\n",
    "                       [0.56609741, 1., 0.40164453],\n",
    "                       [0.74320051, 1., 0.22454143],\n",
    "                       [0.90765338, 1., 0.06008855],\n",
    "                       [1., 0.82861293, 0.],\n",
    "                       [1., 0.63979666, 0.],\n",
    "                       [1., 0.43645606, 0.],\n",
    "                       [1., 0.2476398, 0.],\n",
    "                       [0.96345811, 0.0442992, 0.],\n",
    "                       [0.73172906, 0., 0.],\n",
    "                       [0.5, 0., 0.]])\n",
    "\n",
    "    # define connections and colors of the bones\n",
    "    bones = [((0, 4), colors[0, :]),\n",
    "             ((4, 3), colors[1, :]),\n",
    "             ((3, 2), colors[2, :]),\n",
    "             ((2, 1), colors[3, :]),\n",
    "\n",
    "             ((0, 8), colors[4, :]),\n",
    "             ((8, 7), colors[5, :]),\n",
    "             ((7, 6), colors[6, :]),\n",
    "             ((6, 5), colors[7, :]),\n",
    "\n",
    "             ((0, 12), colors[8, :]),\n",
    "             ((12, 11), colors[9, :]),\n",
    "             ((11, 10), colors[10, :]),\n",
    "             ((10, 9), colors[11, :]),\n",
    "\n",
    "             ((0, 16), colors[12, :]),\n",
    "             ((16, 15), colors[13, :]),\n",
    "             ((15, 14), colors[14, :]),\n",
    "             ((14, 13), colors[15, :]),\n",
    "\n",
    "             ((0, 20), colors[16, :]),\n",
    "             ((20, 19), colors[17, :]),\n",
    "             ((19, 18), colors[18, :]),\n",
    "             ((18, 17), colors[19, :])]\n",
    "\n",
    "    for connection, color in bones:\n",
    "        coord1 = coords_hw[connection[0], :]\n",
    "        coord2 = coords_hw[connection[1], :]\n",
    "        coords = np.stack([coord1, coord2])\n",
    "        if color_fixed is None:\n",
    "            axis.plot(coords[:, 1], coords[:, 0], color=color, linewidth=linewidth)\n",
    "        else:\n",
    "            axis.plot(coords[:, 1], coords[:, 0], color_fixed, linewidth=linewidth)"
   ]
  },
  {
   "cell_type": "code",
   "execution_count": null,
   "metadata": {},
   "outputs": [],
   "source": [
    "def plot_hand_3d(coords_xyz, axis, color_fixed=None, linewidth='1'):\n",
    "    \"\"\" Plots a hand stick figure into a matplotlib figure. \"\"\"\n",
    "    colors = np.array([[0., 0., 0.5],\n",
    "                       [0., 0., 0.73172906],\n",
    "                       [0., 0., 0.96345811],\n",
    "                       [0., 0.12745098, 1.],\n",
    "                       [0., 0.33137255, 1.],\n",
    "                       [0., 0.55098039, 1.],\n",
    "                       [0., 0.75490196, 1.],\n",
    "                       [0.06008855, 0.9745098, 0.90765338],\n",
    "                       [0.22454143, 1., 0.74320051],\n",
    "                       [0.40164453, 1., 0.56609741],\n",
    "                       [0.56609741, 1., 0.40164453],\n",
    "                       [0.74320051, 1., 0.22454143],\n",
    "                       [0.90765338, 1., 0.06008855],\n",
    "                       [1., 0.82861293, 0.],\n",
    "                       [1., 0.63979666, 0.],\n",
    "                       [1., 0.43645606, 0.],\n",
    "                       [1., 0.2476398, 0.],\n",
    "                       [0.96345811, 0.0442992, 0.],\n",
    "                       [0.73172906, 0., 0.],\n",
    "                       [0.5, 0., 0.]])\n",
    "\n",
    "    # define connections and colors of the bones\n",
    "    bones = [((0, 4), colors[0, :]),\n",
    "             ((4, 3), colors[1, :]),\n",
    "             ((3, 2), colors[2, :]),\n",
    "             ((2, 1), colors[3, :]),\n",
    "\n",
    "             ((0, 8), colors[4, :]),\n",
    "             ((8, 7), colors[5, :]),\n",
    "             ((7, 6), colors[6, :]),\n",
    "             ((6, 5), colors[7, :]),\n",
    "\n",
    "             ((0, 12), colors[8, :]),\n",
    "             ((12, 11), colors[9, :]),\n",
    "             ((11, 10), colors[10, :]),\n",
    "             ((10, 9), colors[11, :]),\n",
    "\n",
    "             ((0, 16), colors[12, :]),\n",
    "             ((16, 15), colors[13, :]),\n",
    "             ((15, 14), colors[14, :]),\n",
    "             ((14, 13), colors[15, :]),\n",
    "\n",
    "             ((0, 20), colors[16, :]),\n",
    "             ((20, 19), colors[17, :]),\n",
    "             ((19, 18), colors[18, :]),\n",
    "             ((18, 17), colors[19, :])]\n",
    "\n",
    "    for connection, color in bones:\n",
    "        coord1 = coords_xyz[connection[0], :]\n",
    "        coord2 = coords_xyz[connection[1], :]\n",
    "        coords = np.stack([coord1, coord2])\n",
    "        if color_fixed is None:\n",
    "            axis.plot(coords[:, 0], coords[:, 1], coords[:, 2], color=color, linewidth=linewidth)\n",
    "        else:\n",
    "            axis.plot(coords[:, 0], coords[:, 1], coords[:, 2], color_fixed, linewidth=linewidth)\n",
    "\n",
    "    axis.view_init(azim=-90., elev=90.)"
   ]
  },
  {
   "cell_type": "code",
   "execution_count": null,
   "metadata": {},
   "outputs": [],
   "source": [
    "fig = plt.figure(1, figsize=(20,20))\n",
    "ax1 = fig.add_subplot('221')\n",
    "ax2 = fig.add_subplot('222')\n",
    "ax3 = fig.add_subplot('223')\n",
    "ax4 = fig.add_subplot('224', projection='3d')\n",
    "plot_hand_3d(kp_coord_xyz, ax4, color_fixed=None, linewidth='1')\n",
    "plot_hand(kp_coord_xyz, ax3, color_fixed=None, linewidth='1')"
   ]
  },
  {
   "cell_type": "code",
   "execution_count": null,
   "metadata": {},
   "outputs": [],
   "source": [
    "plot_hand_3d(kp_coord_xyz, ax4, color_fixed=None, linewidth='1')"
   ]
  },
  {
   "cell_type": "code",
   "execution_count": null,
   "metadata": {},
   "outputs": [],
   "source": [
    "plt.show()"
   ]
  }
 ],
 "metadata": {
  "kernelspec": {
   "display_name": "Python [conda env:py35]",
   "language": "python",
   "name": "conda-env-py35-py"
  },
  "language_info": {
   "codemirror_mode": {
    "name": "ipython",
    "version": 3
   },
   "file_extension": ".py",
   "mimetype": "text/x-python",
   "name": "python",
   "nbconvert_exporter": "python",
   "pygments_lexer": "ipython3",
   "version": "3.5.6"
  }
 },
 "nbformat": 4,
 "nbformat_minor": 4
}
