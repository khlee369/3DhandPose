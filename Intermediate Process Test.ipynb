{
 "cells": [
  {
   "cell_type": "code",
   "execution_count": null,
   "metadata": {},
   "outputs": [],
   "source": [
    "import tensorflow as tf\n",
    "import pickle\n",
    "import os\n",
    "import numpy as np\n",
    "import scipy.misc\n",
    "import cv2\n",
    "import matplotlib.pyplot as plt\n",
    "import random\n",
    "\n",
    "from mpl_toolkits.mplot3d import Axes3D"
   ]
  },
  {
   "cell_type": "code",
   "execution_count": null,
   "metadata": {
    "scrolled": true
   },
   "outputs": [],
   "source": [
    "import loader\n",
    "import model\n",
    "from general import *"
   ]
  },
  {
   "cell_type": "code",
   "execution_count": null,
   "metadata": {},
   "outputs": [],
   "source": [
    "sess = tf.Session()"
   ]
  },
  {
   "cell_type": "code",
   "execution_count": null,
   "metadata": {},
   "outputs": [],
   "source": [
    "eloader = loader.Data('evaluation')"
   ]
  },
  {
   "cell_type": "code",
   "execution_count": null,
   "metadata": {},
   "outputs": [],
   "source": [
    "def intermediate_crop_offset(imgs, binary_mask):\n",
    "    # detect axis_aligned bounding box\n",
    "    # find argmin(w,h) and armax(w,h) of binary_mask\n",
    "    binary_mask = tf.cast(binary_mask, tf.int32)\n",
    "    binary_mask = tf.equal(binary_mask, 1)\n",
    "    s = binary_mask.get_shape().as_list()\n",
    "\n",
    "    x_range = tf.expand_dims(tf.range(s[1]), 1)\n",
    "    y_range = tf.expand_dims(tf.range(s[2]), 0)\n",
    "    X = tf.tile(x_range, [1, s[2]])\n",
    "    Y = tf.tile(y_range, [s[1], 1])\n",
    "\n",
    "    print(X)\n",
    "    # bounding box\n",
    "    ohs = [] # offset_height\n",
    "    ows = [] # offset_width\n",
    "    ths = [] # target_hegith\n",
    "    tws = [] # target_width\n",
    "\n",
    "    for i in range(s[0]):\n",
    "        X_masked = tf.cast(tf.boolean_mask(X, binary_mask[i, :, :]), tf.float32)\n",
    "        Y_masked = tf.cast(tf.boolean_mask(Y, binary_mask[i, :, :]), tf.float32)\n",
    "\n",
    "        x_min = tf.cast(tf.reduce_min(X_masked), tf.int32)\n",
    "        x_max = tf.cast(tf.reduce_max(X_masked), tf.int32)\n",
    "        y_min = tf.cast(tf.reduce_min(Y_masked), tf.int32)\n",
    "        y_max = tf.cast(tf.reduce_max(Y_masked), tf.int32)\n",
    "        \n",
    "        ohs.append(x_min)\n",
    "        ows.append(y_min)\n",
    "        ths.append(x_max - x_min)\n",
    "        tws.append(y_max - y_min)\n",
    "        \n",
    "    return ohs, ows, ths, tws"
   ]
  },
  {
   "cell_type": "markdown",
   "metadata": {},
   "source": [
    "# crop test"
   ]
  },
  {
   "cell_type": "code",
   "execution_count": null,
   "metadata": {
    "scrolled": true
   },
   "outputs": [],
   "source": [
    "imgs, masks, depths, annos = eloader.load_batch(8)\n",
    "hands = (np.ones(masks.shape) < masks).astype(int)\n",
    "binary_mask = hands[:,:,:,0]\n",
    "ohs, ows, ths, tws = intermediate_crop_offset(imgs, binary_mask)"
   ]
  },
  {
   "cell_type": "code",
   "execution_count": null,
   "metadata": {},
   "outputs": [],
   "source": [
    "binary_mask.shape"
   ]
  },
  {
   "cell_type": "code",
   "execution_count": null,
   "metadata": {
    "scrolled": false
   },
   "outputs": [],
   "source": [
    "for idx in range(3):\n",
    "\n",
    "    plt.imshow(imgs[idx])\n",
    "    plt.show()\n",
    "\n",
    "    plt.imshow(binary_mask[idx], 'gray')\n",
    "    plt.show()\n",
    "    \n",
    "    imgs_crop = sess.run(tf.image.crop_to_bounding_box(imgs[idx],\n",
    "                                                 ohs[idx],\n",
    "                                                 ows[idx],\n",
    "                                                 ths[idx],\n",
    "                                                 tws[idx]))\n",
    "    plt.imshow(imgs_crop)\n",
    "    plt.show()\n",
    "    "
   ]
  },
  {
   "cell_type": "markdown",
   "metadata": {},
   "source": [
    "# Resize Test"
   ]
  },
  {
   "cell_type": "code",
   "execution_count": null,
   "metadata": {},
   "outputs": [],
   "source": []
  },
  {
   "cell_type": "code",
   "execution_count": null,
   "metadata": {},
   "outputs": [],
   "source": []
  },
  {
   "cell_type": "code",
   "execution_count": null,
   "metadata": {},
   "outputs": [],
   "source": []
  },
  {
   "cell_type": "code",
   "execution_count": null,
   "metadata": {},
   "outputs": [],
   "source": []
  },
  {
   "cell_type": "markdown",
   "metadata": {},
   "source": [
    "# Test Crop and Resize"
   ]
  },
  {
   "cell_type": "code",
   "execution_count": null,
   "metadata": {},
   "outputs": [],
   "source": [
    "imgs.shape"
   ]
  },
  {
   "cell_type": "code",
   "execution_count": null,
   "metadata": {},
   "outputs": [],
   "source": [
    "boxes = [0,0, 100, 100]\n",
    "box_indices = [0]\n",
    "crop_size = [256,256]"
   ]
  },
  {
   "cell_type": "code",
   "execution_count": null,
   "metadata": {},
   "outputs": [],
   "source": [
    "tf.image.resize_images(imgs[0], [256,256])"
   ]
  },
  {
   "cell_type": "code",
   "execution_count": null,
   "metadata": {},
   "outputs": [],
   "source": []
  },
  {
   "cell_type": "code",
   "execution_count": null,
   "metadata": {},
   "outputs": [],
   "source": []
  },
  {
   "cell_type": "markdown",
   "metadata": {},
   "source": [
    "# Create Gaussian Scoremap"
   ]
  },
  {
   "cell_type": "code",
   "execution_count": null,
   "metadata": {},
   "outputs": [],
   "source": []
  },
  {
   "cell_type": "code",
   "execution_count": null,
   "metadata": {},
   "outputs": [],
   "source": []
  },
  {
   "cell_type": "markdown",
   "metadata": {},
   "source": [
    "# Lagacy"
   ]
  },
  {
   "cell_type": "code",
   "execution_count": null,
   "metadata": {},
   "outputs": [],
   "source": [
    "def crop_and_resize(imgs, binary_mask):\n",
    "    # implement\n",
    "    imgs_cr = imgs\n",
    "    crop_offset = tf.ones([8, 2])\n",
    "    crop_scale = tf.ones([8, 1])\n",
    "\n",
    "    binary_mask = tf.cast(binary_mask, tf.int32)\n",
    "    binary_mask = tf.equal(binary_mask, 1)\n",
    "    s = binary_mask.get_shape().as_list()\n",
    "\n",
    "    x_range = tf.expand_dims(tf.range(s[1]), 1)\n",
    "    y_range = tf.expand_dims(tf.range(s[2]), 0)\n",
    "    X = tf.tile(x_range, [1, s[2]])\n",
    "    Y = tf.tile(y_range, [s[1], 1])\n",
    "\n",
    "    # bounding box\n",
    "    ohs = [] # offset_height\n",
    "    ows = [] # offset_width\n",
    "    ths = [] # target_hegith\n",
    "    tws = [] # target_width\n",
    "    bb_list = []\n",
    "    crop_size_list = []\n",
    "    offset_list = []\n",
    "\n",
    "    for i in range(s[0]):\n",
    "        X_masked = tf.cast(tf.boolean_mask(X, binary_mask[i, :, :]), tf.float32)\n",
    "        Y_masked = tf.cast(tf.boolean_mask(Y, binary_mask[i, :, :]), tf.float32)\n",
    "\n",
    "        x_min = tf.reduce_min(X_masked)\n",
    "        x_max = tf.reduce_max(X_masked)\n",
    "        y_min = tf.reduce_min(Y_masked)\n",
    "        y_max = tf.reduce_max(Y_masked)\n",
    "\n",
    "        start = tf.stack([x_min, y_min])\n",
    "        end = tf.stack([x_max, y_max])\n",
    "        bb = tf.stack([start, end], 1)\n",
    "        # bb = [x_min, y_min, x_max, y_max]\n",
    "        \n",
    "        offset_list.append([x_min, y_min])\n",
    "        bb_list.append(bb)\n",
    "\n",
    "        crop_size_x = x_max - x_min\n",
    "        crop_size_y = y_max - y_min\n",
    "\n",
    "        crop_size_list.append([crop_size_x, crop_size_y])\n",
    "        \n",
    "        ohs.append(x_min)\n",
    "        ows.append(y_min)\n",
    "        ths.append(crop_size_x)\n",
    "        tws.append(crop_size_y)\n",
    "        \n",
    "    return ohs, ows, ths, tws\n",
    "    return bb_list, crop_size_list, offset_list\n",
    "    # return imgs_cr, crop_offset, crop_scale"
   ]
  },
  {
   "cell_type": "code",
   "execution_count": null,
   "metadata": {},
   "outputs": [],
   "source": []
  },
  {
   "cell_type": "code",
   "execution_count": null,
   "metadata": {},
   "outputs": [],
   "source": []
  }
 ],
 "metadata": {
  "kernelspec": {
   "display_name": "Python 3",
   "language": "python",
   "name": "python3"
  },
  "language_info": {
   "codemirror_mode": {
    "name": "ipython",
    "version": 3
   },
   "file_extension": ".py",
   "mimetype": "text/x-python",
   "name": "python",
   "nbconvert_exporter": "python",
   "pygments_lexer": "ipython3",
   "version": "3.5.6"
  }
 },
 "nbformat": 4,
 "nbformat_minor": 4
}
